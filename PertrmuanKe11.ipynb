{
  "nbformat": 4,
  "nbformat_minor": 0,
  "metadata": {
    "colab": {
      "provenance": [],
      "authorship_tag": "ABX9TyNj7jE7niXHZuQX9wnbRLx9",
      "include_colab_link": true
    },
    "kernelspec": {
      "name": "python3",
      "display_name": "Python 3"
    },
    "language_info": {
      "name": "python"
    }
  },
  "cells": [
    {
      "cell_type": "markdown",
      "metadata": {
        "id": "view-in-github",
        "colab_type": "text"
      },
      "source": [
        "<a href=\"https://colab.research.google.com/github/YuricoBagusDwiAnggoro/pertemuan11/blob/main/PertrmuanKe11.ipynb\" target=\"_parent\"><img src=\"https://colab.research.google.com/assets/colab-badge.svg\" alt=\"Open In Colab\"/></a>"
      ]
    },
    {
      "cell_type": "code",
      "execution_count": 1,
      "metadata": {
        "colab": {
          "base_uri": "https://localhost:8080/"
        },
        "id": "DvVM0OlZqTYl",
        "outputId": "bbe5c1c9-aaf3-46d7-cc95-831e79028832"
      },
      "outputs": [
        {
          "output_type": "stream",
          "name": "stdout",
          "text": [
            "{'a': ['b', 'c'], 'b': ['a', 'd'], 'c': ['a', 'd'], 'd': ['e'], 'e': ['d']}\n"
          ]
        }
      ],
      "source": [
        "# Create dictionary with graph element\n",
        "'''\n",
        "a-----b\n",
        "|     |\n",
        "|     |\n",
        "c-----d----e\n",
        "'''\n",
        "\n",
        "graphn = {\"a\" : [\"b\", \"c\"],\n",
        "         \"b\" : [\"a\", \"d\"],\n",
        "         \"c\" : [\"a\", \"d\"],\n",
        "         \"d\" : [\"e\"],\n",
        "         \"e\" : [\"d\"]\n",
        "          }\n",
        "\n",
        "print(graphn)"
      ]
    },
    {
      "cell_type": "code",
      "source": [
        "# Latihan\n",
        "'''\n",
        "T-------U-------V\n",
        "|               |\n",
        "W---------------X\n",
        "|               |\n",
        "Z               S\n",
        "'''\n",
        "\n",
        "graph1 = {\"T\" : [\"U\", \"W\"],\n",
        "          \"U\" : [\"V\"],\n",
        "          \"V\" : [\"U\", \"X\"],\n",
        "          \"W\" : [\"X\", \"Z\"],\n",
        "          \"X\" : [\"S\", \"W\"],\n",
        "          \"Z\" : [\"W\"],\n",
        "          \"S\" : [\"X\"]\n",
        "          }\n",
        "\n",
        "print(graph1)"
      ],
      "metadata": {
        "colab": {
          "base_uri": "https://localhost:8080/"
        },
        "id": "YHMYfS7rvRZy",
        "outputId": "b26b5ca2-4e85-4728-af0b-dec64a82e930"
      },
      "execution_count": 2,
      "outputs": [
        {
          "output_type": "stream",
          "name": "stdout",
          "text": [
            "{'T': ['U', 'W'], 'U': ['V'], 'V': ['U', 'X'], 'W': ['X', 'Z'], 'X': ['S', 'W'], 'Z': ['W'], 'S': ['X']}\n"
          ]
        }
      ]
    },
    {
      "cell_type": "code",
      "source": [
        "# Latihan\n",
        "'''\n",
        "r-------o-------m\n",
        "|       |       |\n",
        "l-------p-------n\n",
        "'''\n",
        "\n",
        "graph2 = {\"r\" : [\"o\", \"l\"],\n",
        "          \"o\" : [\"m\", \"p\"],\n",
        "          \"m\" : [\"o\", \"n\"],\n",
        "          \"l\" : [\"r\", \"p\"],\n",
        "          \"p\" : [\"o\", \"n\"],\n",
        "          \"n\" : [\"p\", \"m\"]\n",
        "           }\n",
        "\n",
        "print(graph2)"
      ],
      "metadata": {
        "colab": {
          "base_uri": "https://localhost:8080/"
        },
        "id": "x9tshMeKB-0G",
        "outputId": "9355e167-8310-44aa-a3f2-f42a87140bef"
      },
      "execution_count": 3,
      "outputs": [
        {
          "output_type": "stream",
          "name": "stdout",
          "text": [
            "{'r': ['o', 'l'], 'o': ['m', 'p'], 'm': ['o', 'n'], 'l': ['r', 'p'], 'p': ['o', 'n'], 'n': ['p', 'm']}\n"
          ]
        }
      ]
    },
    {
      "cell_type": "code",
      "source": [
        "# Menampilkan simpul pada graph\n",
        "class Graph:\n",
        "  def __init__(self, gdict=None):\n",
        "    if gdict is None:\n",
        "      gdict = {}\n",
        "    self.gdict = gdict\n",
        "\n",
        "  # Get the keys of the dictionary\n",
        "  def getVertices(self):\n",
        "    return list(self.gdict.keys())\n",
        "\n",
        "# Create dictionary with graph elements\n",
        "graph_elements = graphn\n",
        "\n",
        "# Create an instance of the Graph class and pass the graph_elements\n",
        "g = Graph(graph_elements)\n",
        "\n",
        "# Print the vertices by calling the getVertices method wth parentheses\n",
        "print(g.getVertices())"
      ],
      "metadata": {
        "colab": {
          "base_uri": "https://localhost:8080/"
        },
        "id": "ry4ZpFHKw54e",
        "outputId": "35cb48a5-4e8d-4e43-e2aa-ffcbf90c3761"
      },
      "execution_count": 4,
      "outputs": [
        {
          "output_type": "stream",
          "name": "stdout",
          "text": [
            "['a', 'b', 'c', 'd', 'e']\n"
          ]
        }
      ]
    },
    {
      "cell_type": "code",
      "source": [
        "# Latihan\n",
        "# Menampilkan elemen simpul graph TUV\n",
        "graph_elements = graph1\n",
        "g = Graph(graph_elements)\n",
        "print(g.getVertices())"
      ],
      "metadata": {
        "colab": {
          "base_uri": "https://localhost:8080/"
        },
        "id": "V9T03OuisZQC",
        "outputId": "38132aa4-1817-4c58-a34f-d80065b0eb9d"
      },
      "execution_count": 5,
      "outputs": [
        {
          "output_type": "stream",
          "name": "stdout",
          "text": [
            "['T', 'U', 'V', 'W', 'X', 'Z', 'S']\n"
          ]
        }
      ]
    },
    {
      "cell_type": "code",
      "source": [
        "# Latihan\n",
        "# Menampilkan elemen simpul graph rom\n",
        "graph_elements = graph2\n",
        "g = Graph(graph_elements)\n",
        "print(g.getVertices())"
      ],
      "metadata": {
        "colab": {
          "base_uri": "https://localhost:8080/"
        },
        "id": "GBhoJOHd0QIE",
        "outputId": "ea3c4a78-b921-4ef3-8873-008486cef110"
      },
      "execution_count": 6,
      "outputs": [
        {
          "output_type": "stream",
          "name": "stdout",
          "text": [
            "['r', 'o', 'm', 'l', 'p', 'n']\n"
          ]
        }
      ]
    },
    {
      "cell_type": "code",
      "source": [
        "# Menampilkan sudut pada graph\n",
        "class graph:\n",
        "  def __init__(self,gdict=None):\n",
        "    if gdict is None:\n",
        "      gdict = {}\n",
        "    self.gdict = gdict\n",
        "\n",
        "  def edges(self):\n",
        "    return self.findedges()\n",
        "\n",
        "  #find the distinc list of edges\n",
        "  def findedges(self):\n",
        "    edgename = []\n",
        "    for vrtx in self.gdict:\n",
        "      for nxtvrtx in self.gdict[vrtx]:\n",
        "        if {nxtvrtx, vrtx} not in edgename:\n",
        "          edgename.append({vrtx, nxtvrtx})\n",
        "    return edgename\n",
        "# create the dictionary with graph elements\n",
        "graph_elements = graphn\n",
        "g = graph(graph_elements)\n",
        "print(g.edges())"
      ],
      "metadata": {
        "colab": {
          "base_uri": "https://localhost:8080/"
        },
        "id": "adhFRDNC2t7m",
        "outputId": "aed93af2-6479-4e23-a72c-b495c732a6a9"
      },
      "execution_count": 7,
      "outputs": [
        {
          "output_type": "stream",
          "name": "stdout",
          "text": [
            "[{'b', 'a'}, {'c', 'a'}, {'b', 'd'}, {'c', 'd'}, {'e', 'd'}]\n"
          ]
        }
      ]
    },
    {
      "cell_type": "code",
      "source": [
        "# Latihan\n",
        "# Tampilkan edge pada graph TUV\n",
        "graph_elements = graph1\n",
        "g = graph(graph_elements)\n",
        "print(g.edges())"
      ],
      "metadata": {
        "id": "Hcq933uW5lBv",
        "colab": {
          "base_uri": "https://localhost:8080/"
        },
        "outputId": "343af40c-b0b3-46a7-e7db-f2e5beca8ec3"
      },
      "execution_count": 8,
      "outputs": [
        {
          "output_type": "stream",
          "name": "stdout",
          "text": [
            "[{'T', 'U'}, {'T', 'W'}, {'V', 'U'}, {'V', 'X'}, {'X', 'W'}, {'Z', 'W'}, {'X', 'S'}]\n"
          ]
        }
      ]
    },
    {
      "cell_type": "code",
      "source": [
        "# Latihan\n",
        "# Tampilkan edge pada graph rom\n",
        "graph_elements = graph1\n",
        "g = graph(graph_elements)\n",
        "print(g.edges())"
      ],
      "metadata": {
        "id": "me-YhULk728i",
        "colab": {
          "base_uri": "https://localhost:8080/"
        },
        "outputId": "11b39be6-ff3d-4e03-c490-a19c40912c18"
      },
      "execution_count": 9,
      "outputs": [
        {
          "output_type": "stream",
          "name": "stdout",
          "text": [
            "[{'T', 'U'}, {'T', 'W'}, {'V', 'U'}, {'V', 'X'}, {'X', 'W'}, {'Z', 'W'}, {'X', 'S'}]\n"
          ]
        }
      ]
    },
    {
      "cell_type": "code",
      "source": [
        "# Menambah vertex/simpul\n",
        "class graph:\n",
        "  def __init__(self, gdict=None):\n",
        "    if gdict is None:\n",
        "      gdict = {}\n",
        "    self.gdict = gdict\n",
        "\n",
        "  def getVertices(self):\n",
        "    return list(self.gdict.keys())\n",
        "\n",
        "  # Add the vertex as a key\n",
        "  def addVertex(self, vrtx):\n",
        "    if vrtx not in self.gdict:\n",
        "      self.gdict[vrtx] = []\n",
        "\n",
        "# Create the dictionary with graph elements\n",
        "graph_elements = graphn\n",
        "g = graph(graph_elements)\n",
        "g.addVertex(\"f\")\n",
        "print(g.getVertices())"
      ],
      "metadata": {
        "id": "HAlcKQti-Xl4",
        "colab": {
          "base_uri": "https://localhost:8080/"
        },
        "outputId": "15c1a921-ef3b-469b-c5e6-27834b30ce25"
      },
      "execution_count": 10,
      "outputs": [
        {
          "output_type": "stream",
          "name": "stdout",
          "text": [
            "['a', 'b', 'c', 'd', 'e', 'f']\n"
          ]
        }
      ]
    },
    {
      "cell_type": "code",
      "source": [
        "# Latihan\n",
        "# Tambah simpul R pada graph TUV\n",
        "graph_elements = graph1\n",
        "g = graph(graph_elements)\n",
        "g.addVertex(\"R\")\n",
        "print(g.getVertices())"
      ],
      "metadata": {
        "id": "gylpeU36ECEV",
        "colab": {
          "base_uri": "https://localhost:8080/"
        },
        "outputId": "6ff19a6b-9514-4146-883e-71538432b888"
      },
      "execution_count": 11,
      "outputs": [
        {
          "output_type": "stream",
          "name": "stdout",
          "text": [
            "['T', 'U', 'V', 'W', 'X', 'Z', 'S', 'R']\n"
          ]
        }
      ]
    },
    {
      "cell_type": "code",
      "source": [
        "# Latihan\n",
        "# Tambah simpul K dan J pada graph rom\n",
        "graph_elements = graph2\n",
        "g = graph(graph_elements)\n",
        "g.addVertex(\"K\")\n",
        "g.addVertex(\"J\")\n",
        "print(g.getVertices())"
      ],
      "metadata": {
        "id": "CAWaTKTQECek",
        "colab": {
          "base_uri": "https://localhost:8080/"
        },
        "outputId": "9847e469-d25f-43c8-9105-f762f8d5f620"
      },
      "execution_count": 12,
      "outputs": [
        {
          "output_type": "stream",
          "name": "stdout",
          "text": [
            "['r', 'o', 'm', 'l', 'p', 'n', 'K', 'J']\n"
          ]
        }
      ]
    },
    {
      "cell_type": "code",
      "source": [
        "class graph:\n",
        "  def __init__(self,gdict=None):\n",
        "    if gdict is None:\n",
        "      gdict = {}\n",
        "    self.gdict = gdict\n",
        "\n",
        "  def edges(self):\n",
        "    return self.findedges()\n",
        "\n",
        "  def AddEdge(self, edge):\n",
        "    edge = set(edge)\n",
        "    (vrtx1, vrtx2) = tuple(edge)\n",
        "    if vrtx1 in self.gdict:\n",
        "      self.gdict[vrtx1].append(vrtx2)\n",
        "    else:\n",
        "      self.gdict[vrtx1] = [vrtx2]\n",
        "\n",
        "  def findedges(self):\n",
        "    edgename = []\n",
        "    for vrtx in self.gdict:\n",
        "      for nxtvrtx in self.gdict[vrtx]:\n",
        "        if {nxtvrtx, vrtx} not in edgename:\n",
        "          edgename.append({vrtx, nxtvrtx})\n",
        "    return edgename\n",
        "\n",
        "# Create the dictionary with graph elements\n",
        "graph_elements = graphn\n",
        "g = graph(graph_elements)\n",
        "g.AddEdge({\"b\", \"f\"})\n",
        "g.AddEdge({\"e\", \"f\"})\n",
        "print(g.edges())"
      ],
      "metadata": {
        "id": "vvELBM8QECXx",
        "colab": {
          "base_uri": "https://localhost:8080/"
        },
        "outputId": "606c6f73-20bc-47d3-df98-38ad4d8ed01c"
      },
      "execution_count": 13,
      "outputs": [
        {
          "output_type": "stream",
          "name": "stdout",
          "text": [
            "[{'b', 'a'}, {'c', 'a'}, {'b', 'd'}, {'c', 'd'}, {'e', 'd'}, {'f', 'b'}, {'f', 'e'}]\n"
          ]
        }
      ]
    },
    {
      "cell_type": "code",
      "source": [
        "# Latihan\n",
        "# Tambah sudut Z ke R, sudut S ke R pada edge TUV\n",
        "graph_elements = graph1\n",
        "g = graph(graph_elements)\n",
        "g.AddEdge({\"Z\", \"R\"})\n",
        "g.AddEdge({\"S\", \"R\"})\n",
        "print(g.edges())"
      ],
      "metadata": {
        "id": "2WZ5xthdEIed",
        "colab": {
          "base_uri": "https://localhost:8080/"
        },
        "outputId": "d3d7948a-e498-4f37-fcdf-5e90e3994afd"
      },
      "execution_count": 14,
      "outputs": [
        {
          "output_type": "stream",
          "name": "stdout",
          "text": [
            "[{'T', 'U'}, {'T', 'W'}, {'V', 'U'}, {'V', 'X'}, {'X', 'W'}, {'Z', 'W'}, {'X', 'S'}, {'R', 'Z'}, {'R', 'S'}]\n"
          ]
        }
      ]
    },
    {
      "cell_type": "code",
      "source": [
        "# Latihan\n",
        "# Tambah sudut l ke K dan n ke J pada edge rom\n",
        "graph_elements = graph2\n",
        "g = graph(graph_elements)\n",
        "g.AddEdge({\"l\", \"K\"})\n",
        "g.AddEdge({\"n\", \"J\"})\n",
        "print(g.edges())"
      ],
      "metadata": {
        "id": "-LTCLIRFEIbV",
        "colab": {
          "base_uri": "https://localhost:8080/"
        },
        "outputId": "ede39360-53d0-490f-9355-060790b2c7e1"
      },
      "execution_count": 15,
      "outputs": [
        {
          "output_type": "stream",
          "name": "stdout",
          "text": [
            "[{'r', 'o'}, {'r', 'l'}, {'o', 'm'}, {'p', 'o'}, {'n', 'm'}, {'p', 'l'}, {'n', 'p'}, {'K', 'l'}, {'J', 'n'}]\n"
          ]
        }
      ]
    }
  ]
}